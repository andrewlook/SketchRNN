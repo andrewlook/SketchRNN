{
 "cells": [
  {
   "cell_type": "code",
   "execution_count": 1,
   "id": "96ae4a86-b115-4c5a-98eb-934c619fe15c",
   "metadata": {},
   "outputs": [],
   "source": [
    "%load_ext autoreload\n",
    "%autoreload 2"
   ]
  },
  {
   "cell_type": "code",
   "execution_count": 3,
   "id": "ffe9795c-214e-433e-b050-faa48337df9d",
   "metadata": {},
   "outputs": [
    {
     "name": "stdout",
     "output_type": "stream",
     "text": [
      "============================================================\n",
      "RUN_ID: 0751868\n",
      "\n",
      "HYPERPARAMETERS:\n",
      "\n",
      "{\n",
      "  \"architecture\": \"Pytorch-SketchRNN\",\n",
      "  \"dataset_source\": \"look\",\n",
      "  \"dataset_name\": \"look_i16__minn10_epsilon1\",\n",
      "  \"epochs\": 50000,\n",
      "  \"validate_every_n_epochs\": 2,\n",
      "  \"save_every_n_epochs\": 100,\n",
      "  \"lr\": 0.001,\n",
      "  \"use_lr_decay\": false,\n",
      "  \"min_lr\": 1e-05,\n",
      "  \"lr_decay\": 0.9999,\n",
      "  \"enc_hidden_size\": 256,\n",
      "  \"dec_hidden_size\": 512,\n",
      "  \"batch_size\": 100,\n",
      "  \"d_z\": 128,\n",
      "  \"n_distributions\": 20,\n",
      "  \"kl_div_loss_weight\": 0.5,\n",
      "  \"use_eta\": false,\n",
      "  \"eta_min\": 0.01,\n",
      "  \"eta_R\": 0.99995,\n",
      "  \"grad_clip\": 1.0,\n",
      "  \"temperature\": 0.4,\n",
      "  \"max_seq_length\": 200\n",
      "}\n",
      "============================================================\n",
      "\n",
      "\n"
     ]
    }
   ],
   "source": [
    "import torch\n",
    "from sketch_rnn import Trainer, HParams\n",
    "\n",
    "hp = HParams()\n",
    "hp.learning_rate = 1e-3\n",
    "\n",
    "trainer = Trainer(hp=hp, use_wandb=False, device=torch.device(\"cuda\" if torch.cuda.is_available() else \"cpu\"))"
   ]
  },
  {
   "cell_type": "code",
   "execution_count": 19,
   "id": "9b0d39f3-9f8d-49b7-9bbd-cf32ef4f707b",
   "metadata": {},
   "outputs": [
    {
     "data": {
      "text/plain": [
       "(torch.Size([202, 5]), torch.Size([202, 5]))"
      ]
     },
     "execution_count": 19,
     "metadata": {},
     "output_type": "execute_result"
    }
   ],
   "source": [
    "t0 = trainer.train_dataset[0]\n",
    "t1 = trainer.train_dataset[1]\n",
    "\n",
    "t0[0].shape, t1[0].shape"
   ]
  },
  {
   "cell_type": "code",
   "execution_count": null,
   "id": "4fc33cdd-0a1e-4a48-ac96-32866b0295e0",
   "metadata": {},
   "outputs": [],
   "source": []
  },
  {
   "cell_type": "code",
   "execution_count": 20,
   "id": "f6cb470f-bb99-4b6f-b27b-8c48e4f5b59d",
   "metadata": {},
   "outputs": [
    {
     "data": {
      "text/plain": [
       "LSTM(5, 256, bidirectional=True)"
      ]
     },
     "execution_count": 20,
     "metadata": {},
     "output_type": "execute_result"
    }
   ],
   "source": [
    "trainer.encoder.lstm"
   ]
  },
  {
   "cell_type": "code",
   "execution_count": null,
   "id": "8b505867-42b4-4cc8-a99a-95fc870a9343",
   "metadata": {},
   "outputs": [],
   "source": []
  },
  {
   "cell_type": "code",
   "execution_count": null,
   "id": "102a4837-19c5-4d2b-ad1d-0c9c64c4ce78",
   "metadata": {},
   "outputs": [],
   "source": []
  },
  {
   "cell_type": "code",
   "execution_count": null,
   "id": "657b0955-4b36-4e22-8b79-12a683a9c5eb",
   "metadata": {},
   "outputs": [],
   "source": []
  },
  {
   "cell_type": "code",
   "execution_count": null,
   "id": "d249d21f-50de-41d4-b26e-295f2330b98b",
   "metadata": {},
   "outputs": [],
   "source": []
  },
  {
   "cell_type": "code",
   "execution_count": 16,
   "id": "302c6d4a-1d37-4edd-8b77-231ca64e25eb",
   "metadata": {},
   "outputs": [
    {
     "ename": "AttributeError",
     "evalue": "'tuple' object has no attribute 'shape'",
     "output_type": "error",
     "traceback": [
      "\u001b[0;31m---------------------------------------------------------------------------\u001b[0m",
      "\u001b[0;31mAttributeError\u001b[0m                            Traceback (most recent call last)",
      "Cell \u001b[0;32mIn[16], line 1\u001b[0m\n\u001b[0;32m----> 1\u001b[0m \u001b[43mt0\u001b[49m\u001b[38;5;241;43m.\u001b[39;49m\u001b[43mshape\u001b[49m\n\u001b[1;32m      4\u001b[0m \u001b[38;5;66;03m#[p.shape for p in trainer.encoder.parameters()]\u001b[39;00m\n",
      "\u001b[0;31mAttributeError\u001b[0m: 'tuple' object has no attribute 'shape'"
     ]
    }
   ],
   "source": [
    "\n",
    "\n",
    "\n",
    "#[p.shape for p in trainer.encoder.parameters()]"
   ]
  },
  {
   "cell_type": "code",
   "execution_count": null,
   "id": "9b7fa690-d6d3-4a24-8f75-5aaa8de5754c",
   "metadata": {},
   "outputs": [],
   "source": [
    "#trainer.train()"
   ]
  }
 ],
 "metadata": {
  "kernelspec": {
   "display_name": "Python 3 (ipykernel)",
   "language": "python",
   "name": "python3"
  },
  "language_info": {
   "codemirror_mode": {
    "name": "ipython",
    "version": 3
   },
   "file_extension": ".py",
   "mimetype": "text/x-python",
   "name": "python",
   "nbconvert_exporter": "python",
   "pygments_lexer": "ipython3",
   "version": "3.8.11"
  }
 },
 "nbformat": 4,
 "nbformat_minor": 5
}
