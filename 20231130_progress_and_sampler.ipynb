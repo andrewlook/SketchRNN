{
 "cells": [
  {
   "cell_type": "code",
   "execution_count": 71,
   "id": "96ae4a86-b115-4c5a-98eb-934c619fe15c",
   "metadata": {},
   "outputs": [
    {
     "name": "stdout",
     "output_type": "stream",
     "text": [
      "The autoreload extension is already loaded. To reload it, use:\n",
      "  %reload_ext autoreload\n"
     ]
    }
   ],
   "source": [
    "%load_ext autoreload\n",
    "%autoreload 2"
   ]
  },
  {
   "cell_type": "code",
   "execution_count": 72,
   "id": "44e15676-7c28-42d4-bfde-a64472df4f4e",
   "metadata": {},
   "outputs": [],
   "source": [
    "import io\n",
    "import math\n",
    "import os\n",
    "from pathlib import Path\n",
    "from typing import Any, Optional, Tuple\n",
    "\n",
    "import einops\n",
    "import numpy as np\n",
    "import torch\n",
    "import torch.nn as nn\n",
    "import wandb\n",
    "from matplotlib import pyplot as plt\n",
    "from PIL import Image\n",
    "from torch import optim\n",
    "from torch.utils.data import DataLoader, Dataset"
   ]
  },
  {
   "cell_type": "code",
   "execution_count": 3,
   "id": "072d8c35-282d-4b58-8d3d-23a7f718050d",
   "metadata": {},
   "outputs": [],
   "source": []
  },
  {
   "cell_type": "code",
   "execution_count": 76,
   "id": "ffe9795c-214e-433e-b050-faa48337df9d",
   "metadata": {},
   "outputs": [
    {
     "name": "stdout",
     "output_type": "stream",
     "text": [
      "{'learning_rate': 0.001, 'architecture': 'Pytorch-LabML', 'dataset_name': 'cat', 'enc_hidden_size': 256, 'dec_hidden_size': 512, 'batch_size': 100, 'd_z': 128, 'n_distributions': 20, 'kl_div_loss_weight': 0.5, 'grad_clip': 1.0, 'temperature': 0.4, 'max_seq_length': 200, 'epochs': 100}\n"
     ]
    }
   ],
   "source": [
    "from sketch_rnn_v2 import Trainer, HParams\n",
    "\n",
    "\n",
    "use_wandb = False\n",
    "\n",
    "hp = HParams()\n",
    "hp.learning_rate = 1e-3\n",
    "\n",
    "device = torch.device(\"cuda\" if torch.cuda.is_available() else \"cpu\")\n",
    "trainer = Trainer(hp=hp,\n",
    "                  device=device,\n",
    "                  use_wandb=use_wandb)\n",
    "\n",
    "validate_every_n_epochs = 2\n",
    "save_every_n_epochs = 10"
   ]
  },
  {
   "cell_type": "code",
   "execution_count": 74,
   "id": "9b7fa690-d6d3-4a24-8f75-5aaa8de5754c",
   "metadata": {},
   "outputs": [
    {
     "name": "stdout",
     "output_type": "stream",
     "text": [
      " |----------------------------------------| 0.86% [6/700 00:04<09:18]\r"
     ]
    }
   ],
   "source": [
    "trainer.train_one_epoch(epoch=0)"
   ]
  },
  {
   "cell_type": "code",
   "execution_count": null,
   "id": "1d224760-69cb-4575-b628-be4513c5d5b3",
   "metadata": {},
   "outputs": [
    {
     "name": "stdout",
     "output_type": "stream",
     "text": [
      "Finished epoch 0.--------------------------------------| 1.57% [11/700 00:08<09:15]\n"
     ]
    }
   ],
   "source": [
    "trainer.train()"
   ]
  },
  {
   "cell_type": "code",
   "execution_count": null,
   "id": "c5553b81-1478-48ff-9cb4-1a969c688ff8",
   "metadata": {},
   "outputs": [],
   "source": []
  }
 ],
 "metadata": {
  "kernelspec": {
   "display_name": "Python 3 (ipykernel)",
   "language": "python",
   "name": "python3"
  },
  "language_info": {
   "codemirror_mode": {
    "name": "ipython",
    "version": 3
   },
   "file_extension": ".py",
   "mimetype": "text/x-python",
   "name": "python",
   "nbconvert_exporter": "python",
   "pygments_lexer": "ipython3",
   "version": "3.8.11"
  }
 },
 "nbformat": 4,
 "nbformat_minor": 5
}
