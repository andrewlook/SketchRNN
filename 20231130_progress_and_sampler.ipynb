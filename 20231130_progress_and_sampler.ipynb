{
 "cells": [
  {
   "cell_type": "code",
   "execution_count": 1,
   "id": "96ae4a86-b115-4c5a-98eb-934c619fe15c",
   "metadata": {},
   "outputs": [],
   "source": [
    "%load_ext autoreload\n",
    "%autoreload 2"
   ]
  },
  {
   "cell_type": "code",
   "execution_count": 2,
   "id": "44e15676-7c28-42d4-bfde-a64472df4f4e",
   "metadata": {},
   "outputs": [],
   "source": [
    "import io\n",
    "import math\n",
    "import os\n",
    "from pathlib import Path\n",
    "from typing import Any, Optional, Tuple\n",
    "\n",
    "import einops\n",
    "import numpy as np\n",
    "import torch\n",
    "import torch.nn as nn\n",
    "import wandb\n",
    "from matplotlib import pyplot as plt\n",
    "from PIL import Image\n",
    "from torch import optim\n",
    "from torch.utils.data import DataLoader, Dataset"
   ]
  },
  {
   "cell_type": "code",
   "execution_count": 3,
   "id": "072d8c35-282d-4b58-8d3d-23a7f718050d",
   "metadata": {},
   "outputs": [],
   "source": [
    "from sketch_rnn_v2 import Trainer, HParams"
   ]
  },
  {
   "cell_type": "code",
   "execution_count": 4,
   "id": "ffe9795c-214e-433e-b050-faa48337df9d",
   "metadata": {},
   "outputs": [],
   "source": [
    "hp = HParams()\n",
    "hp.learning_rate = 1e-3\n",
    "hp.use_wandb = False\n",
    "run_id = f\"{math.floor(np.random.rand() * 1e6):07d}\"\n",
    "\n",
    "device = torch.device(\"cuda\" if torch.cuda.is_available() else \"cpu\")\n",
    "trainer = Trainer(hp=hp, run_id=run_id, device=device)"
   ]
  },
  {
   "cell_type": "code",
   "execution_count": 5,
   "id": "919111a5-014e-4975-a68e-7adc5cadff22",
   "metadata": {},
   "outputs": [
    {
     "data": {
      "text/plain": [
       "<sketch_rnn_v2.StrokesDataset at 0x1742c7e20>"
      ]
     },
     "execution_count": 5,
     "metadata": {},
     "output_type": "execute_result"
    }
   ],
   "source": [
    "trainer.valid_dataset"
   ]
  },
  {
   "cell_type": "code",
   "execution_count": null,
   "id": "16089302-1234-458f-85cf-46fb3ee753d9",
   "metadata": {},
   "outputs": [],
   "source": []
  }
 ],
 "metadata": {
  "kernelspec": {
   "display_name": "Python 3 (ipykernel)",
   "language": "python",
   "name": "python3"
  },
  "language_info": {
   "codemirror_mode": {
    "name": "ipython",
    "version": 3
   },
   "file_extension": ".py",
   "mimetype": "text/x-python",
   "name": "python",
   "nbconvert_exporter": "python",
   "pygments_lexer": "ipython3",
   "version": "3.8.11"
  }
 },
 "nbformat": 4,
 "nbformat_minor": 5
}
